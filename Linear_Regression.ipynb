{
 "cells": [
  {
   "cell_type": "code",
   "execution_count": 1,
   "metadata": {},
   "outputs": [],
   "source": [
    "import torch\n",
    "import random\n",
    "import matplotlib.pyplot as plt\n",
    "import tqdm"
   ]
  },
  {
   "cell_type": "markdown",
   "metadata": {},
   "source": [
    "## This function generates a dataset for us"
   ]
  },
  {
   "cell_type": "code",
   "execution_count": 31,
   "metadata": {},
   "outputs": [],
   "source": [
    "def generate_data(w, b, data_size, mean=0, std=1):\n",
    "    X = torch.normal(mean, std, size=(data_size, len(w)))\n",
    "    Y = torch.matmul(X, w) + b \n",
    "    Y += torch.normal(0, 0.1, size=Y.shape)\n",
    "    return X, Y.reshape((-1, 1))"
   ]
  },
  {
   "cell_type": "markdown",
   "metadata": {},
   "source": [
    "## Let's create a new dataset"
   ]
  },
  {
   "cell_type": "code",
   "execution_count": 32,
   "metadata": {},
   "outputs": [],
   "source": [
    "true_w = torch.tensor([2, -3.4])\n",
    "true_b = 4.2\n",
    "X, Y = generate_data(true_w, true_b, 50000)"
   ]
  },
  {
   "cell_type": "markdown",
   "metadata": {},
   "source": [
    "## When we visualize it we can easily observer that it has a linear relation"
   ]
  },
  {
   "cell_type": "code",
   "execution_count": 33,
   "metadata": {},
   "outputs": [
    {
     "data": {
      "text/plain": [
       "<matplotlib.collections.PathCollection at 0x7f4517d11cf8>"
      ]
     },
     "execution_count": 33,
     "metadata": {},
     "output_type": "execute_result"
    },
    {
     "data": {
      "image/png": "[encoded data removed]",
      "text/plain": [
       "<Figure size 432x288 with 1 Axes>"
      ]
     },
     "metadata": {
      "needs_background": "light"
     },
     "output_type": "display_data"
    }
   ],
   "source": [
    "plt.scatter(X[:100,1], Y[:100])"
   ]
  },
  {
   "cell_type": "markdown",
   "metadata": {},
   "source": [
    "## Let's create our training Batch function"
   ]
  },
  {
   "cell_type": "code",
   "execution_count": 34,
   "metadata": {},
   "outputs": [],
   "source": [
    "def train_batch(batch_size, X, Y):\n",
    "    data_size = X.shape[0]\n",
    "    indices = list(range(data_size))\n",
    "    random.shuffle(indices)\n",
    "    for idx in range(0, data_size, batch_size):\n",
    "        batch_indices = torch.tensor(indices[idx:min(idx+batch_size, data_size)])\n",
    "        yield X[batch_indices], Y[batch_indices]\n",
    " \n",
    "    "
   ]
  },
  {
   "cell_type": "markdown",
   "metadata": {},
   "source": [
    "## Intialize model paramters"
   ]
  },
  {
   "cell_type": "code",
   "execution_count": 35,
   "metadata": {},
   "outputs": [],
   "source": [
    "w = torch.normal(0, 1, size=(2, 1), requires_grad=True)\n",
    "b = torch.zeros(1, requires_grad=True)"
   ]
  },
  {
   "cell_type": "markdown",
   "metadata": {},
   "source": [
    "## Define our model and implement loss and sgd functions"
   ]
  },
  {
   "cell_type": "code",
   "execution_count": 36,
   "metadata": {},
   "outputs": [],
   "source": [
    "def linear_reg_model(X, w, b):\n",
    "    return torch.matmul(X, w) + b"
   ]
  },
  {
   "cell_type": "code",
   "execution_count": 37,
   "metadata": {},
   "outputs": [],
   "source": [
    "def squared_error(y_pred, y):\n",
    "    return 0.5  * (y.reshape(y_pred.shape)-y_pred) ** 2"
   ]
  },
  {
   "cell_type": "code",
   "execution_count": 38,
   "metadata": {},
   "outputs": [],
   "source": [
    "def sgd(params, lr, batch_size):\n",
    "    for param in params:\n",
    "        param.data.sub_(lr * param.grad / batch_size)\n",
    "        param.grad.data.zero_()"
   ]
  },
  {
   "cell_type": "markdown",
   "metadata": {},
   "source": [
    "## Main Training Loop"
   ]
  },
  {
   "cell_type": "code",
   "execution_count": 44,
   "metadata": {},
   "outputs": [
    {
     "name": "stdout",
     "output_type": "stream",
     "text": [
      "epoch 1, loss 0.004967\n",
      "epoch 2, loss 0.004966\n",
      "epoch 3, loss 0.004969\n",
      "epoch 4, loss 0.004966\n",
      "epoch 5, loss 0.004967\n",
      "epoch 6, loss 0.004965\n",
      "epoch 7, loss 0.004964\n",
      "epoch 8, loss 0.004964\n",
      "epoch 9, loss 0.004967\n",
      "epoch 10, loss 0.004965\n",
      "epoch 11, loss 0.004968\n",
      "epoch 12, loss 0.004965\n",
      "epoch 13, loss 0.004965\n",
      "epoch 14, loss 0.004972\n",
      "epoch 15, loss 0.004967\n",
      "epoch 16, loss 0.004967\n",
      "epoch 17, loss 0.004964\n",
      "epoch 18, loss 0.004965\n",
      "epoch 19, loss 0.004965\n",
      "epoch 20, loss 0.004973\n"
     ]
    }
   ],
   "source": [
    "lr = 0.03\n",
    "num_epochs = 20\n",
    "net = linear_reg_model\n",
    "loss = squared_error\n",
    "batch_size = 64\n",
    "for i in range(num_epochs):\n",
    "    for x, y in train_batch(batch_size, X, Y):\n",
    "        l = loss(net(x, w, b), y)\n",
    "        l.sum().backward()\n",
    "        sgd([w, b], lr , batch_size)\n",
    "    with torch.no_grad():\n",
    "        train_l = loss(net(X, w, b), Y)\n",
    "        print(f'epoch {i + 1}, loss {float(train_l.mean()):f}')"
   ]
  },
  {
   "cell_type": "markdown",
   "metadata": {},
   "source": [
    "## Model learned paramters"
   ]
  },
  {
   "cell_type": "code",
   "execution_count": 41,
   "metadata": {},
   "outputs": [
    {
     "name": "stdout",
     "output_type": "stream",
     "text": [
      "tensor([[ 2.0024],\n",
      "        [-3.3988]], requires_grad=True) \n",
      " tensor([4.2016], requires_grad=True)\n"
     ]
    }
   ],
   "source": [
    "print(w, \"\\n\",b)"
   ]
  },
  {
   "cell_type": "code",
   "execution_count": null,
   "metadata": {},
   "outputs": [],
   "source": []
  }
 ],
 "metadata": {
  "kernelspec": {
   "display_name": "Python 3",
   "language": "python",
   "name": "python3"
  },
  "language_info": {
   "codemirror_mode": {
    "name": "ipython",
    "version": 3
   },
   "file_extension": ".py",
   "mimetype": "text/x-python",
   "name": "python",
   "nbconvert_exporter": "python",
   "pygments_lexer": "ipython3",
   "version": "3.6.9"
  }
 },
 "nbformat": 4,
 "nbformat_minor": 4
}
